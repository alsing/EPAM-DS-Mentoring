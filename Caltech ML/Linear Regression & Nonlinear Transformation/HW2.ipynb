{
 "cells": [
  {
   "cell_type": "code",
   "execution_count": 2,
   "id": "ccac221d",
   "metadata": {},
   "outputs": [],
   "source": [
    "import numpy as np\n",
    "import random"
   ]
  },
  {
   "cell_type": "code",
   "execution_count": 3,
   "id": "807c5e82",
   "metadata": {},
   "outputs": [],
   "source": [
    "def coin_flip():\n",
    "    res = []\n",
    "    for i in range(1000):\n",
    "        temp = []\n",
    "        for i in range(10):\n",
    "            coin = random.randint(0,1)\n",
    "            temp.append(coin)\n",
    "        res.append(temp)\n",
    "    return res"
   ]
  },
  {
   "cell_type": "code",
   "execution_count": 69,
   "id": "c9ecc3ea",
   "metadata": {},
   "outputs": [],
   "source": [
    "def coin_experiment(n: int):\n",
    "    c_1, c_rand, c_min = [], [], []\n",
    "    for i in range(n):\n",
    "        res = coin_flip()\n",
    "        c_1.append(sum(res[0]) / 10)\n",
    "        c_rand.append(sum(res[random.randint(0, 999)]) / 10)\n",
    "        c_min.append(sum(min(res, key=sum)) / 10)\n",
    "    return np.mean(c_1), np.mean(c_rand), np.mean(c_min)"
   ]
  },
  {
   "cell_type": "code",
   "execution_count": 70,
   "id": "fa0c59db",
   "metadata": {},
   "outputs": [
    {
     "data": {
      "text/plain": [
       "(0.5, 0.495, 0.036899999999999995)"
      ]
     },
     "execution_count": 70,
     "metadata": {},
     "output_type": "execute_result"
    }
   ],
   "source": [
    "coin_experiment(1000)"
   ]
  },
  {
   "cell_type": "code",
   "execution_count": 6,
   "id": "ddaf19c2",
   "metadata": {},
   "outputs": [],
   "source": [
    "from sklearn.linear_model import LinearRegression\n",
    "from sklearn.metrics import accuracy_score"
   ]
  },
  {
   "cell_type": "code",
   "execution_count": 7,
   "id": "84a722cd",
   "metadata": {},
   "outputs": [],
   "source": [
    "def generate_sample(N: int):\n",
    "        x1, y1, x2, y2 = [random.uniform(-1, 1) for i in range(4)]\n",
    "        w0 = 1\n",
    "        w1 = (y1 - y2) / (x1 * y2 - x2 * y1)\n",
    "        w2 = (x2 - x1) / (x1 * y2 - x2 * y1)\n",
    "        W = np.array([w0, w1, w2])\n",
    "        X = []\n",
    "        for i in range(N):\n",
    "            X.append([1, random.uniform(-1, 1), random.uniform(-1, 1)])\n",
    "        X = np.array(X)\n",
    "        \n",
    "        y = np.sign(W.dot(X.T))\n",
    "        return X, y, W"
   ]
  },
  {
   "cell_type": "code",
   "execution_count": 213,
   "id": "f4c29970",
   "metadata": {},
   "outputs": [],
   "source": [
    "def linreg_experiment(N: int, n: int):\n",
    "    in_sample = []\n",
    "    out_sample = []\n",
    "    for i in range(n):\n",
    "        X, y, W = generate_sample(N)\n",
    "        reg = LinearRegression()\n",
    "        reg.fit(X[:, 1:], y)\n",
    "        res = np.sign(reg.predict(X[:, 1:]))\n",
    "        acc = accuracy_score(y, res)\n",
    "        in_sample.append(1 - acc)\n",
    "        \n",
    "        X, y, W = generate_sample(N * 10)\n",
    "        res = np.sign(reg.predict(X[:, 1:]))\n",
    "        acc = accuracy_score(y, res)\n",
    "        out_sample.append(1 - acc)\n",
    "        \n",
    "    return np.mean(in_sample), np.mean(out_sample)"
   ]
  },
  {
   "cell_type": "code",
   "execution_count": 214,
   "id": "9169a21d",
   "metadata": {},
   "outputs": [
    {
     "data": {
      "text/plain": [
       "(0.03979000000000002, 0.400303)"
      ]
     },
     "execution_count": 214,
     "metadata": {},
     "output_type": "execute_result"
    }
   ],
   "source": [
    "linreg_experiment(100, 1000)"
   ]
  },
  {
   "cell_type": "code",
   "execution_count": 64,
   "id": "973da75b",
   "metadata": {},
   "outputs": [],
   "source": [
    "def pla(N: int, W: np.array, X: np.array, y: list, w: np.array):\n",
    "        def misclassified_pts(N: int, w: np.array, X: np.array, y: list):\n",
    "            pts = []\n",
    "            labels = np.sign(w.dot(X.T))\n",
    "            for i in range(N):\n",
    "                if labels[i] != y[i]:\n",
    "                    pts.append(i)\n",
    "            return pts\n",
    "        \n",
    "        i = 0\n",
    "        mis_pts = misclassified_pts(N, w, X, y)\n",
    "        \n",
    "        while len(mis_pts):\n",
    "            rand = random.randint(0, len(mis_pts) - 1)\n",
    "            rand_x = X[mis_pts[rand]]\n",
    "            w += rand_x * y[mis_pts[rand]]\n",
    "            i += 1\n",
    "            mis_pts = misclassified_pts(N, w, X, y)\n",
    "        \n",
    "        return i\n",
    "    \n",
    "    \n",
    "def linreg_pla_experiment(N: int, n: int):\n",
    "    iterations = 0\n",
    "    for i in range(n):\n",
    "        X, y, W = generate_sample(N)\n",
    "        reg = LinearRegression()\n",
    "        reg.fit(X[:, 1:], y)\n",
    "        w = [reg.intercept_]\n",
    "        w.extend(reg.coef_)\n",
    "        iterations += pla(N, np.array(W), np.array(X), y, np.array(w))\n",
    "    return iterations / n"
   ]
  },
  {
   "cell_type": "code",
   "execution_count": 68,
   "id": "142d8128",
   "metadata": {},
   "outputs": [
    {
     "data": {
      "text/plain": [
       "4.643"
      ]
     },
     "execution_count": 68,
     "metadata": {},
     "output_type": "execute_result"
    }
   ],
   "source": [
    "linreg_pla_experiment(10, 1000)"
   ]
  },
  {
   "cell_type": "code",
   "execution_count": 193,
   "id": "99613f7c",
   "metadata": {},
   "outputs": [],
   "source": [
    "def generate_sample_with_noise(N: int):\n",
    "    X = [[random.uniform(-1, 1), random.uniform(-1, 1)] for i in range(N)]\n",
    "    y = np.sign(np.array(X)[:, 0] ** 2 + np.array(X)[:, 1] ** 2 - 0.6)\n",
    "    noise = random.sample(range(0, N - 1), N // 10)\n",
    "    y[noise] *= -1\n",
    "    return X, y\n",
    "\n",
    "def no_transformation_experiment(N: int, n: int):\n",
    "    in_sample = []\n",
    "    for i in range(n):\n",
    "        X, y = generate_sample_with_noise(N)\n",
    "        reg = LinearRegression()\n",
    "        reg.fit(X, y)\n",
    "        res = np.sign(reg.predict(X))\n",
    "        acc = accuracy_score(y, res)\n",
    "        in_sample.append(1 - acc)\n",
    "    return np.mean(in_sample)"
   ]
  },
  {
   "cell_type": "code",
   "execution_count": 194,
   "id": "ea15140d",
   "metadata": {},
   "outputs": [
    {
     "data": {
      "text/plain": [
       "0.504987"
      ]
     },
     "execution_count": 194,
     "metadata": {},
     "output_type": "execute_result"
    }
   ],
   "source": [
    "no_transformation_experiment(1000, 1000)"
   ]
  },
  {
   "cell_type": "code",
   "execution_count": 195,
   "id": "f272a919",
   "metadata": {},
   "outputs": [],
   "source": [
    "def agreement_rate(w_res: list, res: list, N: int):\n",
    "            a = 0\n",
    "            for i in range(N):\n",
    "                if w_res[i] == res[i]:\n",
    "                    a += 1\n",
    "            return a / N\n",
    "            \n",
    "\n",
    "def transform_X(X: list):\n",
    "    X = np.concatenate((np.array(X), np.array([np.array(X)[:, 0] * np.array(X)[:, 1]]).T), axis=1)\n",
    "    X = np.concatenate((X, np.array([np.array(X)[:, 0] ** 2]).T), axis=1)\n",
    "    X = np.concatenate((X, np.array([np.array(X)[:, 1] ** 2]).T), axis=1)\n",
    "    return X\n",
    "\n",
    "\n",
    "def transformation_experiment(N: int, n: int, W: list):\n",
    "    agreement = [0 for i in range(len(W))]\n",
    "    out_sample = []\n",
    "    for i in range(n):\n",
    "        X, y = generate_sample_with_noise(N)\n",
    "        X = transform_X(X)\n",
    "        reg = LinearRegression()\n",
    "        reg.fit(X, y)\n",
    "        res = np.sign(reg.predict(X))\n",
    "        X = np.concatenate((np.array([[1 for i in range(N)]]).T, X), axis=1)\n",
    "        for i in range(len(W)):\n",
    "            w_res = np.sign(np.array(W[i]).dot(X.T))\n",
    "            agreement[i] += agreement_rate(w_res, res, N)\n",
    "            \n",
    "                \n",
    "        X, y = generate_sample_with_noise(N)\n",
    "        X = transform_X(X)\n",
    "        res = np.sign(reg.predict(X))\n",
    "        acc = accuracy_score(y, res)\n",
    "        out_sample.append(1 - acc)\n",
    "            \n",
    "    return np.array(agreement) / n, np.mean(out_sample)"
   ]
  },
  {
   "cell_type": "code",
   "execution_count": 197,
   "id": "f12d03c2",
   "metadata": {},
   "outputs": [
    {
     "data": {
      "text/plain": [
       "(array([0.873 , 0.6548, 0.6531, 0.6083, 0.5444]), 0.3055)"
      ]
     },
     "execution_count": 197,
     "metadata": {},
     "output_type": "execute_result"
    }
   ],
   "source": [
    "transformation_experiment(10, 1000, [[-1.0, -0.05, 0.08, 0.13, 1.5, 1.5],\n",
    "                                    [-1.0, -0.05, 0.08, 0.13, 1.5, 15],\n",
    "                                    [-1.0, -0.05, 0.08, 0.13, 15, 1.5],\n",
    "                                    [-1.0, -1.5, 0.08, 0.13, 0.05, 0.05],\n",
    "                                    [-1.0, -0.05, 0.08, 1.5, 0.15, 0.15]])"
   ]
  }
 ],
 "metadata": {
  "kernelspec": {
   "display_name": "Python 3 (ipykernel)",
   "language": "python",
   "name": "python3"
  },
  "language_info": {
   "codemirror_mode": {
    "name": "ipython",
    "version": 3
   },
   "file_extension": ".py",
   "mimetype": "text/x-python",
   "name": "python",
   "nbconvert_exporter": "python",
   "pygments_lexer": "ipython3",
   "version": "3.9.7"
  }
 },
 "nbformat": 4,
 "nbformat_minor": 5
}
