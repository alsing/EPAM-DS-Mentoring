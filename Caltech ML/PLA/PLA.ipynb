{
 "cells": [
  {
   "cell_type": "markdown",
   "id": "8535928f",
   "metadata": {
    "pycharm": {
     "name": "#%% md\n"
    }
   },
   "source": [
    "# PLA"
   ]
  },
  {
   "cell_type": "code",
   "execution_count": 1,
   "id": "e139e916",
   "metadata": {
    "pycharm": {
     "name": "#%%\n"
    }
   },
   "outputs": [],
   "source": [
    "import random\n",
    "import numpy as np\n",
    "import matplotlib.pyplot as plt"
   ]
  },
  {
   "cell_type": "code",
   "execution_count": 2,
   "id": "1e88322a",
   "metadata": {
    "pycharm": {
     "name": "#%%\n"
    }
   },
   "outputs": [],
   "source": [
    "class PLA:\n",
    "    def __init__(self, N: int):\n",
    "        self.N = N\n",
    "    \n",
    "    def regenerate_sample(self):\n",
    "        x1, y1, x2, y2 = [random.uniform(-1, 1) for i in range(4)]\n",
    "        w0 = 1\n",
    "        w1 = (y1 - y2) / (x1 * y2 - x2 * y1)\n",
    "        w2 = (x2 - x1) / (x1 * y2 - x2 * y1)\n",
    "        self.W = np.array([w0, w1, w2])\n",
    "        self.X = []\n",
    "        for i in range(self.N):\n",
    "            self.X.append([1, random.uniform(-1, 1), random.uniform(-1, 1)])\n",
    "        self.X = np.array(self.X)\n",
    "        \n",
    "        self.y = np.sign(self.W.dot(self.X.T))\n",
    "        \n",
    "    def pla(self):\n",
    "        def misclassified_pts(w: np.array):\n",
    "            pts = []\n",
    "            labels = np.sign(w.dot(self.X.T))\n",
    "            for i in range(self.N):\n",
    "                if labels[i] != self.y[i]:\n",
    "                    pts.append(i)\n",
    "            return pts\n",
    "        \n",
    "        def disagreement(self, w: np.array, n: int):\n",
    "            da = 0\n",
    "            for i in range(n):\n",
    "                x = np.array([1, random.uniform(-1, 1), random.uniform(-1, 1)])\n",
    "                if np.sign(w.dot(x)) != np.sign(self.W.dot(x)):\n",
    "                    da += 1\n",
    "            return da / n\n",
    "        \n",
    "        i = 0\n",
    "        w = np.array([0.0, 0.0, 0.0])\n",
    "        mis_pts = misclassified_pts(w)\n",
    "        \n",
    "        while len(mis_pts):\n",
    "            rand = random.randint(0, len(mis_pts) - 1)\n",
    "            rand_x = self.X[mis_pts[rand]]\n",
    "            w += rand_x * self.y[mis_pts[rand]]\n",
    "            i += 1\n",
    "            mis_pts = misclassified_pts(w)\n",
    "        \n",
    "        return i, disagreement(self, w, 1000)"
   ]
  },
  {
   "cell_type": "code",
   "execution_count": 3,
   "id": "a522c097",
   "metadata": {
    "pycharm": {
     "name": "#%%\n"
    }
   },
   "outputs": [],
   "source": [
    "def experiment(n: int, k = 1000):\n",
    "    a = PLA(n)\n",
    "    iterations = 0\n",
    "    disagreement = 0\n",
    "    for i in range(k):\n",
    "        a.regenerate_sample()\n",
    "        it, da = a.pla()\n",
    "        iterations += it\n",
    "        disagreement += da\n",
    "    print('Average number of iterations: ' + str(iterations / k))\n",
    "    print('Average disagreement: ' + str(disagreement / k))"
   ]
  },
  {
   "cell_type": "code",
   "execution_count": 4,
   "id": "9ef18ec9",
   "metadata": {
    "pycharm": {
     "name": "#%%\n"
    }
   },
   "outputs": [
    {
     "name": "stdout",
     "output_type": "stream",
     "text": [
      "Average number of iterations: 11.444\n",
      "Average disagreement: 0.11084899999999998\n"
     ]
    }
   ],
   "source": [
    "experiment(10)"
   ]
  },
  {
   "cell_type": "code",
   "execution_count": 5,
   "id": "b09f7435",
   "metadata": {
    "pycharm": {
     "name": "#%%\n"
    }
   },
   "outputs": [
    {
     "name": "stdout",
     "output_type": "stream",
     "text": [
      "Average number of iterations: 96.247\n",
      "Average disagreement: 0.013776999999999944\n"
     ]
    }
   ],
   "source": [
    "experiment(100)"
   ]
  }
 ],
 "metadata": {
  "kernelspec": {
   "display_name": "Python 3 (ipykernel)",
   "language": "python",
   "name": "python3"
  },
  "language_info": {
   "codemirror_mode": {
    "name": "ipython",
    "version": 3
   },
   "file_extension": ".py",
   "mimetype": "text/x-python",
   "name": "python",
   "nbconvert_exporter": "python",
   "pygments_lexer": "ipython3",
   "version": "3.9.7"
  }
 },
 "nbformat": 4,
 "nbformat_minor": 5
}
