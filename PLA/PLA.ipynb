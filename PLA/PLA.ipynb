{
 "cells": [
  {
   "cell_type": "markdown",
   "id": "5f0030dd",
   "metadata": {},
   "source": [
    "# PLA"
   ]
  },
  {
   "cell_type": "code",
   "execution_count": 2,
   "id": "2d7a702f",
   "metadata": {},
   "outputs": [],
   "source": [
    "import random\n",
    "import numpy as np\n",
    "import matplotlib.pyplot as plt"
   ]
  },
  {
   "cell_type": "code",
   "execution_count": 384,
   "id": "0bdcb33b",
   "metadata": {},
   "outputs": [],
   "source": [
    "class PLA:\n",
    "    N: int  # number of points\n",
    "    X: list # points\n",
    "    W: list # weights\n",
    "    y: list # labels\n",
    "    def __init__(self, N: int):\n",
    "        self.N = N\n",
    "        x1, y1, x2, y2 = [random.uniform(-1, 1) for i in range(4)]\n",
    "        w0 = 1\n",
    "        w1 = (y1 - y2) / (x1 * y2 - x2 * y1)\n",
    "        w2 = (x2 - x1) / (x1 * y2 - x2 * y1)\n",
    "        self.W = np.array([w0, w1, w2])\n",
    "        \n",
    "        self.X = []\n",
    "        for i in range(N):\n",
    "            self.X.append([1, random.uniform(-1, 1), random.uniform(-1, 1)])\n",
    "        self.X = np.array(self.X)\n",
    "        \n",
    "        self.y = np.sign(self.W.dot(self.X.T))\n",
    "        \n",
    "    def pla(self):\n",
    "        def misclassified_pts(w: np.array):\n",
    "            pts = []\n",
    "            labels = np.sign(w.dot(self.X.T))\n",
    "            for i in range(self.N):\n",
    "                if labels[i] != self.y[i]:\n",
    "                    pts.append(i)\n",
    "            return pts\n",
    "        \n",
    "        def disagreement(self, w: np.array, n: int):\n",
    "            da = 0\n",
    "            for i in range(n):\n",
    "                x = np.array([1, random.uniform(-1, 1), random.uniform(-1, 1)])\n",
    "                if np.sign(w.dot(x)) != np.sign(self.W.dot(x)):\n",
    "                    da += 1\n",
    "                return da / n\n",
    "        \n",
    "        i = 0\n",
    "        w = np.array([0.0, 0.0, 0.0])\n",
    "        mis_pts = misclassified_pts(w)\n",
    "        \n",
    "        while len(mis_pts):\n",
    "            rand = random.randint(0, len(mis_pts) - 1)\n",
    "            rand_x = self.X[mis_pts[rand]]\n",
    "            w += rand_x * self.y[mis_pts[rand]]\n",
    "            i += 1\n",
    "            mis_pts = misclassified_pts(w)\n",
    "        \n",
    "        return i, disagreement(self, w, 100)"
   ]
  },
  {
   "cell_type": "code",
   "execution_count": 385,
   "id": "f1b730ec",
   "metadata": {},
   "outputs": [],
   "source": [
    "def experiment(n: int):\n",
    "    a = PLA(n)\n",
    "    iterations = 0\n",
    "    disagreement = 0\n",
    "    for i in range(1000):\n",
    "        it, da = a.pla()\n",
    "        iterations += it\n",
    "        disagreement += da\n",
    "    print('Average number of iterations: ' + str(iterations / 1000))\n",
    "    print('Average disagreement: ' + str(disagreement / 1000))"
   ]
  },
  {
   "cell_type": "code",
   "execution_count": 395,
   "id": "45b3ca01",
   "metadata": {},
   "outputs": [
    {
     "name": "stdout",
     "output_type": "stream",
     "text": [
      "Average number of iterations: 7.918\n",
      "Average disagreement: 0.0010200000000000007\n"
     ]
    }
   ],
   "source": [
    "experiment(10)"
   ]
  },
  {
   "cell_type": "code",
   "execution_count": 396,
   "id": "aaa8c139",
   "metadata": {},
   "outputs": [
    {
     "name": "stdout",
     "output_type": "stream",
     "text": [
      "Average number of iterations: 35.024\n",
      "Average disagreement: 0.00021000000000000004\n"
     ]
    }
   ],
   "source": [
    "experiment(100)"
   ]
  },
  {
   "cell_type": "code",
   "execution_count": null,
   "id": "5843ae30",
   "metadata": {},
   "outputs": [],
   "source": []
  }
 ],
 "metadata": {
  "kernelspec": {
   "display_name": "Python 3 (ipykernel)",
   "language": "python",
   "name": "python3"
  },
  "language_info": {
   "codemirror_mode": {
    "name": "ipython",
    "version": 3
   },
   "file_extension": ".py",
   "mimetype": "text/x-python",
   "name": "python",
   "nbconvert_exporter": "python",
   "pygments_lexer": "ipython3",
   "version": "3.9.7"
  }
 },
 "nbformat": 4,
 "nbformat_minor": 5
}
